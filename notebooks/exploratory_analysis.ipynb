{
 "cells": [
  {
   "cell_type": "code",
   "execution_count": 9,
   "metadata": {},
   "outputs": [],
   "source": [
    "import pypdf\n",
    "import chromadb\n",
    "import urllib3\n",
    "import accelerate\n",
    "import sentence_transformers\n",
    "from langchain.document_loaders import PyPDFLoader\n",
    "from langchain.embeddings import HuggingFaceEmbeddings\n",
    "from langchain.vectorstores import Chroma\n",
    "from langchain.text_splitter import RecursiveCharacterTextSplitter, CharacterTextSplitter\n",
    "from langchain.chains import RetrievalQA\n",
    "from langchain.prompts import PromptTemplate\n",
    "from transformers import AutoModelForCausalLM, AutoTokenizer"
   ]
  },
  {
   "cell_type": "code",
   "execution_count": 10,
   "metadata": {},
   "outputs": [
    {
     "name": "stdout",
     "output_type": "stream",
     "text": [
      "env: TOKENIZERS_PARALLELISM=True\n",
      "env: TF_CPP_MIN_LOG_LEVEL=3\n"
     ]
    }
   ],
   "source": [
    "%env TOKENIZERS_PARALLELISM=True\n",
    "%env TF_CPP_MIN_LOG_LEVEL=3"
   ]
  },
  {
   "cell_type": "markdown",
   "metadata": {},
   "source": [
    "## Extracting text data from PDF Files"
   ]
  },
  {
   "cell_type": "code",
   "execution_count": 11,
   "metadata": {},
   "outputs": [
    {
     "data": {
      "text/plain": [
       "langchain_community.document_loaders.pdf.PyPDFLoader"
      ]
     },
     "execution_count": 11,
     "metadata": {},
     "output_type": "execute_result"
    }
   ],
   "source": [
    "# Create an object to load PDF file\n",
    "loader = PyPDFLoader('../data/ArtigoDSA1.pdf')\n",
    "\n",
    "type(loader)"
   ]
  },
  {
   "cell_type": "code",
   "execution_count": 12,
   "metadata": {},
   "outputs": [
    {
     "data": {
      "text/plain": [
       "[Document(metadata={'source': '../data/ArtigoDSA1.pdf', 'page': 0, 'page_label': '1'}, page_content='A Habilidade Mais Importante na Era da Inteligência Artificial \\n \\nA pandemia do COVID-19 acelerou o ritmo do desenvolvimento digital em todo o mundo, já que \\ntudo, desde reuniões até consultas médicas, ficou online. Isso pode soar como algo super \\npositivo.  \\nPara dezenas de milhões de trabalhadores, não. \\nEles talvez não tenham as habilidades necessárias para competir nesse novo mundo. Eles são os \\ncontadores, os digitadores, os secretários executivos, procurando trabalho em uma nova \\neconomia na qual as pessoas contratadas têm títulos como “Engenheiro de Nuv em” ou “Hacker \\nde Crescimento” em seus currículos. Sem um esforço concentrado para retreiná-los, descobriram \\nos pesquisadores da RAND Europe, eles provavelmente serão deixados para trás. \\nE não apenas eles. O custo dessa crescente lacuna de habilidades será medido em trilhões de \\ndólares e recairá mais fortemente em lugares que não possuem infraestrutura digital confiável, \\ncomo acesso à Internet ou fluência generalizada em habilidades digita is. À medida que a \\neconomia mundial luta para se levantar após o golpe do COVID -19, essa lacuna de habilidades \\nameaça continuar pressionando para baixo. \\n“Simplesmente não há pessoas suficientes com as habilidades digitais certas para permitir a \\ntransformação que as empresas estão buscando”, disse Salil Gunashekar, líder de pesquisa e \\ndiretor associado da RAND Europe, que se concentra na política de ciência e tecnologia. \\nEm algum momento nos próximos anos, o mundo passará por um marco importante. O número \\nde horas trabalhadas pelas máquinas será igual ao número de horas trabalhadas pelos humanos. \\nUma pesquisa recente da Salesforce descobriu que três quartos dos trabalhadores do mundo se \\nsentem despreparados para os empregos que podem encontrar do outro lado desse marco. \\nAqueles que planejam trabalhar em assistência médica ou serviços financeiros, por exemplo, \\npodem precisar saber como usar computadores com Inteligência Artificial. Aqueles que desejam \\ntrabalhar em mineração de metais podem precisar saber como operar robôs e analisar Big Data. \\nUm contador pode ser tornar o operador de um robô de automação de processos. \\nOs líderes empresariais alertam há anos que o que veem nos currículos não corresponde ao que \\nprecisam em novos funcionários. O Índice de Economia e Sociedade Digital da Europa descobriu \\nrecentemente que quase 60% dos empregadores estão tendo problemas para  preencher vagas \\ndigitais com candidatos qualificados. E, no entanto, as realidades pandêmicas não os deixaram \\nescolha: quatro em cada cinco líderes empresariais globais dizem que estão acelerando a \\nautomação de processos e tarefas do dia a dia dentro da empresa. '),\n",
       " Document(metadata={'source': '../data/ArtigoDSA1.pdf', 'page': 1, 'page_label': '2'}, page_content='As principais economias do mundo agora podem perder US$ 11,5 trilhões em crescimento \\npotencial até 2028 se não conseguirem preencher a lacuna de habilidades, estimou a empresa \\nglobal de consultoria e serviços profissionais Accenture. Índia, África do Sul e  México serão \\nespecialmente atingidos. O mesmo acontecerá com os grupos que menos podem arcar com a \\nperda econômica: idosos, minorias raciais e étnicas e pessoas que vivem em áreas rurais. \\nO Fórum Econômico Mundial estima que 85 milhões de empregos podem ser perdidos para a \\nautomação nos próximos três anos em mais de uma dúzia de setores. Ao mesmo tempo, espera \\nque surjam 97 milhões de novos empregos melhor adaptados ao futuro do trabalho. N o papel, \\nisso deve ser uma vitória. Sem um grande compromisso para reter e retreinar os trabalhadores \\nexistentes, descobriu a RAND Europe, será uma perda para os funcionários e uma perda para os \\nempregadores. \\nNão há soluções simples aqui. As empresas precisam se tornar mais ágeis na distribuição e \\nredistribuição de seus funcionários existentes para melhor atender às suas necessidades, em vez \\nde tentar recrutar para sair da lacuna de habilidades. Elas também pre cisam fazer mais para \\najudar esses funcionários a aprender as habilidades técnicas, como programação e análise de \\ndados, e as habilidades interpessoais, como trabalhar em equipe, de que precisam para ter \\nsucesso. Os governos nacionais podem ajudar investin do em programas vocacionais e outros \\napoios para trabalhadores desalocados. \\nUm passo importante seria desenvolver uma “linguagem de habilidades” comum, escreveram os \\npesquisadores. Isso garantiria que candidatos e empregadores tivessem a mesma intenção ao \\nusar um termo como “Engenheiro de Nuvem” ou “Engenheiro de IA”. Isso ajudari a os gerentes \\nde contratação a avaliar rapidamente os candidatos com base nas habilidades que eles trazem \\npara o trabalho e não apenas no nome da faculdade em seu currículo (que no mundo atual já não \\ntem mais qualquer relevância). \\nOs trabalhadores, entretanto, precisam mudar sua mentalidade. A educação não termina mais \\ncom um diploma do ensino médio ou um diploma universitário. As habilidades que eles têm \\nagora podem não ser relevantes em alguns anos. Como aconselhou um gerente de tecnologia no \\nCanadá entrevistado durante a pesquisa: “Seja Bom em Aprender”. \\nSim. Esta é a habilidade mais importante na era da Inteligência Artificial:  \\n“Seja Bom em Aprender”. \\n \\nA transformação digital requer que você aprenda, desaprenda, reaprenda e permaneça nesse \\nciclo se deseja realmente manter sua empregabilidade. A capacidade de adaptação a novas \\ntecnologias e a habilidade em aprender cada vez mais rápido, é o que vai diferenciar você das \\nmáquinas. '),\n",
       " Document(metadata={'source': '../data/ArtigoDSA1.pdf', 'page': 2, 'page_label': '3'}, page_content='Não importa sua área, seu mercado, sua graduação, sua idade ou seu gênero. O mundo está \\npassando por uma profunda transformação digital e os empregos como conhecemos estão sendo \\nreinventados. Aqueles que não acompanharem essa evolução natural ficarão para trás, como \\ntantas vezes vimos na história humana. Aprenda o máximo que puder, sobre diferentes temas, \\ndesde habilidades interpessoais até habilidades técnicas. O único limite sobre o que você pode \\naprender é o que você impõe a si mesmo. \\n“Seja Bom em Aprender”. Mantenha-se em modo constante de aprendizado. \\nEquipe DSA \\nwww.datascienceacademy.com.br \\n ')]"
      ]
     },
     "execution_count": 12,
     "metadata": {},
     "output_type": "execute_result"
    }
   ],
   "source": [
    "# Load the file PDF\n",
    "pages = loader.load()\n",
    "\n",
    "pages"
   ]
  },
  {
   "cell_type": "code",
   "execution_count": 13,
   "metadata": {},
   "outputs": [
    {
     "name": "stdout",
     "output_type": "stream",
     "text": [
      "Page content:  Não importa sua área, seu mercado, sua graduação, sua idade ou seu gênero. O mundo está \n",
      "passando por uma profunda transformação digital e os empregos como conhecemos estão sendo \n",
      "reinventados. Aqueles que não acompanharem essa evolução natural ficarão para trás, como \n",
      "tantas vezes vimos na história humana. Aprenda o máximo que puder, sobre diferentes temas, \n",
      "desde habilidades interpessoais até habilidades técnicas. O único limite sobre o que você pode \n",
      "aprender é o que você impõe a si mesmo. \n",
      "“\n"
     ]
    }
   ],
   "source": [
    "page = pages[2]\n",
    "\n",
    "print(\"Page content: \", page.page_content[0:500])"
   ]
  },
  {
   "cell_type": "code",
   "execution_count": 14,
   "metadata": {},
   "outputs": [
    {
     "name": "stdout",
     "output_type": "stream",
     "text": [
      "Metadata: {'source': '../data/ArtigoDSA1.pdf', 'page': 2, 'page_label': '3'}\n"
     ]
    }
   ],
   "source": [
    "print(\"Metadata:\", page.metadata)"
   ]
  },
  {
   "cell_type": "markdown",
   "metadata": {},
   "source": [
    "## Splitting Text Data in Chunks"
   ]
  },
  {
   "cell_type": "markdown",
   "metadata": {},
   "source": [
    "**chunk_size = 1000**: Specifies that each resulting chunk of text will have a maximum of 1000 characters.\n",
    "\n",
    "**chunk_overlap = 20**: Indicates that each chunk will have 20 characters of overlap with the next chunk. This means that the last 20 characters of a chunk will be repeated at the beginning of the next chunk.\n",
    "\n",
    "What it is for:\n",
    "\n",
    "This approach is useful in several situations where large texts need to be processed or analyzed, such as:\n",
    "\n",
    "- Input for language models: Many LLMs have a limit of tokens that they can process in a single iteration. Dividing the text into smaller chunks ensures that the text is sent within the allowed limit.\n",
    "\n",
    "- Data analysis and indexing: It is common in search engines and data processing pipelines, where dividing the text into smaller chunks makes it easier to index and retrieve information.\n",
    "\n",
    "- Context maintenance: When processing involves long documents, this technique allows you to deal with them more efficiently, by dividing the parts without losing logic or cohesion."
   ]
  },
  {
   "cell_type": "code",
   "execution_count": 15,
   "metadata": {},
   "outputs": [],
   "source": [
    "# Create the chunk text separator\n",
    "splitter = RecursiveCharacterTextSplitter(chunk_size = 1000, chunk_overlap = 20)"
   ]
  },
  {
   "cell_type": "code",
   "execution_count": 18,
   "metadata": {},
   "outputs": [
    {
     "name": "stdout",
     "output_type": "stream",
     "text": [
      "Total of Chunks (Documents): 7\n",
      "Last Chunk Content (Document): page_content='Não importa sua área, seu mercado, sua graduação, sua idade ou seu gênero. O mundo está \n",
      "passando por uma profunda transformação digital e os empregos como conhecemos estão sendo \n",
      "reinventados. Aqueles que não acompanharem essa evolução natural ficarão para trás, como \n",
      "tantas vezes vimos na história humana. Aprenda o máximo que puder, sobre diferentes temas, \n",
      "desde habilidades interpessoais até habilidades técnicas. O único limite sobre o que você pode \n",
      "aprender é o que você impõe a si mesmo. \n",
      "“Seja Bom em Aprender”. Mantenha-se em modo constante de aprendizado. \n",
      "Equipe DSA \n",
      "www.datascienceacademy.com.br' metadata={'source': '../data/ArtigoDSA1.pdf', 'page': 2, 'page_label': '3'}\n"
     ]
    }
   ],
   "source": [
    "# Applying the object and extracting the chunks (documents)\n",
    "docs = splitter.split_documents(pages)\n",
    "\n",
    "print(\"Total of Chunks (Documents):\", len(docs))\n",
    "\n",
    "print(\"Last Chunk Content (Document):\", docs[6])"
   ]
  },
  {
   "cell_type": "code",
   "execution_count": null,
   "metadata": {},
   "outputs": [],
   "source": []
  }
 ],
 "metadata": {
  "kernelspec": {
   "display_name": ".venv",
   "language": "python",
   "name": "python3"
  },
  "language_info": {
   "codemirror_mode": {
    "name": "ipython",
    "version": 3
   },
   "file_extension": ".py",
   "mimetype": "text/x-python",
   "name": "python",
   "nbconvert_exporter": "python",
   "pygments_lexer": "ipython3",
   "version": "3.12.7"
  }
 },
 "nbformat": 4,
 "nbformat_minor": 2
}
