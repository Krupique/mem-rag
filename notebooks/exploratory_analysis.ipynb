{
 "cells": [
  {
   "cell_type": "code",
   "execution_count": 10,
   "metadata": {},
   "outputs": [],
   "source": [
    "import pypdf\n",
    "import chromadb\n",
    "import urllib3\n",
    "import accelerate\n",
    "import sentence_transformers\n",
    "from langchain.document_loaders import PyPDFLoader\n",
    "from langchain.embeddings import HuggingFaceEmbeddings\n",
    "from langchain.vectorstores import Chroma\n",
    "from langchain.text_splitter import RecursiveCharacterTextSplitter, CharacterTextSplitter\n",
    "from langchain.chains import RetrievalQA\n",
    "from langchain.prompts import PromptTemplate\n",
    "from transformers import AutoModelForCausalLM, AutoTokenizer"
   ]
  },
  {
   "cell_type": "code",
   "execution_count": 11,
   "metadata": {},
   "outputs": [
    {
     "name": "stdout",
     "output_type": "stream",
     "text": [
      "env: TOKENIZERS_PARALLELISM=True\n",
      "env: TF_CPP_MIN_LOG_LEVEL=3\n"
     ]
    }
   ],
   "source": [
    "%env TOKENIZERS_PARALLELISM=True\n",
    "%env TF_CPP_MIN_LOG_LEVEL=3"
   ]
  },
  {
   "cell_type": "markdown",
   "metadata": {},
   "source": [
    "## Extracting text data from PDF Files"
   ]
  },
  {
   "cell_type": "code",
   "execution_count": 12,
   "metadata": {},
   "outputs": [
    {
     "data": {
      "text/plain": [
       "langchain_community.document_loaders.pdf.PyPDFLoader"
      ]
     },
     "execution_count": 12,
     "metadata": {},
     "output_type": "execute_result"
    }
   ],
   "source": [
    "# Create an object to load PDF file\n",
    "loader = PyPDFLoader('../data/ArtigoDSA1.pdf')\n",
    "\n",
    "type(loader)"
   ]
  },
  {
   "cell_type": "code",
   "execution_count": 13,
   "metadata": {},
   "outputs": [
    {
     "data": {
      "text/plain": [
       "[Document(metadata={'source': '../data/ArtigoDSA1.pdf', 'page': 0, 'page_label': '1'}, page_content='A Habilidade Mais Importante na Era da Inteligência Artificial \\n \\nA pandemia do COVID-19 acelerou o ritmo do desenvolvimento digital em todo o mundo, já que \\ntudo, desde reuniões até consultas médicas, ficou online. Isso pode soar como algo super \\npositivo.  \\nPara dezenas de milhões de trabalhadores, não. \\nEles talvez não tenham as habilidades necessárias para competir nesse novo mundo. Eles são os \\ncontadores, os digitadores, os secretários executivos, procurando trabalho em uma nova \\neconomia na qual as pessoas contratadas têm títulos como “Engenheiro de Nuv em” ou “Hacker \\nde Crescimento” em seus currículos. Sem um esforço concentrado para retreiná-los, descobriram \\nos pesquisadores da RAND Europe, eles provavelmente serão deixados para trás. \\nE não apenas eles. O custo dessa crescente lacuna de habilidades será medido em trilhões de \\ndólares e recairá mais fortemente em lugares que não possuem infraestrutura digital confiável, \\ncomo acesso à Internet ou fluência generalizada em habilidades digita is. À medida que a \\neconomia mundial luta para se levantar após o golpe do COVID -19, essa lacuna de habilidades \\nameaça continuar pressionando para baixo. \\n“Simplesmente não há pessoas suficientes com as habilidades digitais certas para permitir a \\ntransformação que as empresas estão buscando”, disse Salil Gunashekar, líder de pesquisa e \\ndiretor associado da RAND Europe, que se concentra na política de ciência e tecnologia. \\nEm algum momento nos próximos anos, o mundo passará por um marco importante. O número \\nde horas trabalhadas pelas máquinas será igual ao número de horas trabalhadas pelos humanos. \\nUma pesquisa recente da Salesforce descobriu que três quartos dos trabalhadores do mundo se \\nsentem despreparados para os empregos que podem encontrar do outro lado desse marco. \\nAqueles que planejam trabalhar em assistência médica ou serviços financeiros, por exemplo, \\npodem precisar saber como usar computadores com Inteligência Artificial. Aqueles que desejam \\ntrabalhar em mineração de metais podem precisar saber como operar robôs e analisar Big Data. \\nUm contador pode ser tornar o operador de um robô de automação de processos. \\nOs líderes empresariais alertam há anos que o que veem nos currículos não corresponde ao que \\nprecisam em novos funcionários. O Índice de Economia e Sociedade Digital da Europa descobriu \\nrecentemente que quase 60% dos empregadores estão tendo problemas para  preencher vagas \\ndigitais com candidatos qualificados. E, no entanto, as realidades pandêmicas não os deixaram \\nescolha: quatro em cada cinco líderes empresariais globais dizem que estão acelerando a \\nautomação de processos e tarefas do dia a dia dentro da empresa. '),\n",
       " Document(metadata={'source': '../data/ArtigoDSA1.pdf', 'page': 1, 'page_label': '2'}, page_content='As principais economias do mundo agora podem perder US$ 11,5 trilhões em crescimento \\npotencial até 2028 se não conseguirem preencher a lacuna de habilidades, estimou a empresa \\nglobal de consultoria e serviços profissionais Accenture. Índia, África do Sul e  México serão \\nespecialmente atingidos. O mesmo acontecerá com os grupos que menos podem arcar com a \\nperda econômica: idosos, minorias raciais e étnicas e pessoas que vivem em áreas rurais. \\nO Fórum Econômico Mundial estima que 85 milhões de empregos podem ser perdidos para a \\nautomação nos próximos três anos em mais de uma dúzia de setores. Ao mesmo tempo, espera \\nque surjam 97 milhões de novos empregos melhor adaptados ao futuro do trabalho. N o papel, \\nisso deve ser uma vitória. Sem um grande compromisso para reter e retreinar os trabalhadores \\nexistentes, descobriu a RAND Europe, será uma perda para os funcionários e uma perda para os \\nempregadores. \\nNão há soluções simples aqui. As empresas precisam se tornar mais ágeis na distribuição e \\nredistribuição de seus funcionários existentes para melhor atender às suas necessidades, em vez \\nde tentar recrutar para sair da lacuna de habilidades. Elas também pre cisam fazer mais para \\najudar esses funcionários a aprender as habilidades técnicas, como programação e análise de \\ndados, e as habilidades interpessoais, como trabalhar em equipe, de que precisam para ter \\nsucesso. Os governos nacionais podem ajudar investin do em programas vocacionais e outros \\napoios para trabalhadores desalocados. \\nUm passo importante seria desenvolver uma “linguagem de habilidades” comum, escreveram os \\npesquisadores. Isso garantiria que candidatos e empregadores tivessem a mesma intenção ao \\nusar um termo como “Engenheiro de Nuvem” ou “Engenheiro de IA”. Isso ajudari a os gerentes \\nde contratação a avaliar rapidamente os candidatos com base nas habilidades que eles trazem \\npara o trabalho e não apenas no nome da faculdade em seu currículo (que no mundo atual já não \\ntem mais qualquer relevância). \\nOs trabalhadores, entretanto, precisam mudar sua mentalidade. A educação não termina mais \\ncom um diploma do ensino médio ou um diploma universitário. As habilidades que eles têm \\nagora podem não ser relevantes em alguns anos. Como aconselhou um gerente de tecnologia no \\nCanadá entrevistado durante a pesquisa: “Seja Bom em Aprender”. \\nSim. Esta é a habilidade mais importante na era da Inteligência Artificial:  \\n“Seja Bom em Aprender”. \\n \\nA transformação digital requer que você aprenda, desaprenda, reaprenda e permaneça nesse \\nciclo se deseja realmente manter sua empregabilidade. A capacidade de adaptação a novas \\ntecnologias e a habilidade em aprender cada vez mais rápido, é o que vai diferenciar você das \\nmáquinas. '),\n",
       " Document(metadata={'source': '../data/ArtigoDSA1.pdf', 'page': 2, 'page_label': '3'}, page_content='Não importa sua área, seu mercado, sua graduação, sua idade ou seu gênero. O mundo está \\npassando por uma profunda transformação digital e os empregos como conhecemos estão sendo \\nreinventados. Aqueles que não acompanharem essa evolução natural ficarão para trás, como \\ntantas vezes vimos na história humana. Aprenda o máximo que puder, sobre diferentes temas, \\ndesde habilidades interpessoais até habilidades técnicas. O único limite sobre o que você pode \\naprender é o que você impõe a si mesmo. \\n“Seja Bom em Aprender”. Mantenha-se em modo constante de aprendizado. \\nEquipe DSA \\nwww.datascienceacademy.com.br \\n ')]"
      ]
     },
     "execution_count": 13,
     "metadata": {},
     "output_type": "execute_result"
    }
   ],
   "source": [
    "# Load the file PDF\n",
    "pages = loader.load()\n",
    "\n",
    "pages"
   ]
  },
  {
   "cell_type": "code",
   "execution_count": 14,
   "metadata": {},
   "outputs": [
    {
     "name": "stdout",
     "output_type": "stream",
     "text": [
      "Page content:  Não importa sua área, seu mercado, sua graduação, sua idade ou seu gênero. O mundo está \n",
      "passando por uma profunda transformação digital e os empregos como conhecemos estão sendo \n",
      "reinventados. Aqueles que não acompanharem essa evolução natural ficarão para trás, como \n",
      "tantas vezes vimos na história humana. Aprenda o máximo que puder, sobre diferentes temas, \n",
      "desde habilidades interpessoais até habilidades técnicas. O único limite sobre o que você pode \n",
      "aprender é o que você impõe a si mesmo. \n",
      "“\n"
     ]
    }
   ],
   "source": [
    "page = pages[2]\n",
    "\n",
    "print(\"Page content: \", page.page_content[0:500])"
   ]
  },
  {
   "cell_type": "code",
   "execution_count": 15,
   "metadata": {},
   "outputs": [
    {
     "name": "stdout",
     "output_type": "stream",
     "text": [
      "Metadata: {'source': '../data/ArtigoDSA1.pdf', 'page': 2, 'page_label': '3'}\n"
     ]
    }
   ],
   "source": [
    "print(\"Metadata:\", page.metadata)"
   ]
  },
  {
   "cell_type": "markdown",
   "metadata": {},
   "source": [
    "## Splitting Text Data in Chunks"
   ]
  },
  {
   "cell_type": "markdown",
   "metadata": {},
   "source": [
    "**chunk_size = 1000**: Specifies that each resulting chunk of text will have a maximum of 1000 characters.\n",
    "\n",
    "**chunk_overlap = 20**: Indicates that each chunk will have 20 characters of overlap with the next chunk. This means that the last 20 characters of a chunk will be repeated at the beginning of the next chunk.\n",
    "\n",
    "What it is for:\n",
    "\n",
    "This approach is useful in several situations where large texts need to be processed or analyzed, such as:\n",
    "\n",
    "- Input for language models: Many LLMs have a limit of tokens that they can process in a single iteration. Dividing the text into smaller chunks ensures that the text is sent within the allowed limit.\n",
    "\n",
    "- Data analysis and indexing: It is common in search engines and data processing pipelines, where dividing the text into smaller chunks makes it easier to index and retrieve information.\n",
    "\n",
    "- Context maintenance: When processing involves long documents, this technique allows you to deal with them more efficiently, by dividing the parts without losing logic or cohesion."
   ]
  },
  {
   "cell_type": "code",
   "execution_count": 16,
   "metadata": {},
   "outputs": [],
   "source": [
    "# Create the chunk text separator\n",
    "splitter = RecursiveCharacterTextSplitter(chunk_size = 1000, chunk_overlap = 20)"
   ]
  },
  {
   "cell_type": "code",
   "execution_count": 17,
   "metadata": {},
   "outputs": [
    {
     "name": "stdout",
     "output_type": "stream",
     "text": [
      "Total of Chunks (Documents): 7\n",
      "Last Chunk Content (Document): page_content='Não importa sua área, seu mercado, sua graduação, sua idade ou seu gênero. O mundo está \n",
      "passando por uma profunda transformação digital e os empregos como conhecemos estão sendo \n",
      "reinventados. Aqueles que não acompanharem essa evolução natural ficarão para trás, como \n",
      "tantas vezes vimos na história humana. Aprenda o máximo que puder, sobre diferentes temas, \n",
      "desde habilidades interpessoais até habilidades técnicas. O único limite sobre o que você pode \n",
      "aprender é o que você impõe a si mesmo. \n",
      "“Seja Bom em Aprender”. Mantenha-se em modo constante de aprendizado. \n",
      "Equipe DSA \n",
      "www.datascienceacademy.com.br' metadata={'source': '../data/ArtigoDSA1.pdf', 'page': 2, 'page_label': '3'}\n"
     ]
    }
   ],
   "source": [
    "# Applying the object and extracting the chunks (documents)\n",
    "docs = splitter.split_documents(pages)\n",
    "\n",
    "print(\"Total of Chunks (Documents):\", len(docs))\n",
    "\n",
    "print(\"Last Chunk Content (Document):\", docs[6])"
   ]
  },
  {
   "cell_type": "markdown",
   "metadata": {},
   "source": [
    "---\n",
    "\n",
    "## Loading Text Data Vectors into the Vector Database\n",
    "\n",
    "The code implements a semantic search system using a vector database (vectordb) to identify the most relevant points in relation to a question, based on the semantic similarity between the documents and the provided question.\n",
    "\n",
    "https://huggingface.co/sentence-transformers/all-MiniLM-L6-v2\n",
    "\n",
    "https://www.trychroma.com/"
   ]
  },
  {
   "cell_type": "code",
   "execution_count": 18,
   "metadata": {},
   "outputs": [],
   "source": [
    "# Create the vector database\n",
    "vectordb = Chroma.from_documents(documents = docs,\n",
    "                                 embedding = HuggingFaceEmbeddings(model_name = \"all-MiniLM-L6-v2\"),\n",
    "                                 persist_directory = \"vectordb/chroma/\")"
   ]
  },
  {
   "cell_type": "markdown",
   "metadata": {},
   "source": [
    "**Chroma.from_documents(documents=docs)**: Creates a vector database using the provided documents (stored in the docs variable). These documents can be texts, articles, or any type of textual data that you want to index.\n",
    "\n",
    "**HuggingFaceEmbeddings(model_name=\"all-MiniLM-L6-v2\")**: Uses the Hugging Face all-MiniLM-L6-v2 semantic embedding model to transform texts into numeric vectors. Embeddings are mathematical representations of texts that capture their semantic meaning.\n",
    "\n",
    "**persist_directory=\"dsavectordb/chroma/\"**: Specifies the directory where the vector database will be saved (persisted), so that it can be reused in future sessions without having to reprocess the documents."
   ]
  },
  {
   "cell_type": "code",
   "execution_count": 19,
   "metadata": {},
   "outputs": [
    {
     "data": {
      "text/plain": [
       "21"
      ]
     },
     "execution_count": 19,
     "metadata": {},
     "output_type": "execute_result"
    }
   ],
   "source": [
    "# Total collections in vector db\n",
    "vectordb._collection.count()"
   ]
  },
  {
   "cell_type": "markdown",
   "metadata": {},
   "source": [
    "## Testing Vector Search Parameters"
   ]
  },
  {
   "cell_type": "code",
   "execution_count": 20,
   "metadata": {},
   "outputs": [],
   "source": [
    "# Define a question\n",
    "question = \"Has the COVID-19 pandemic accelerated the pace of digital development around the world?\""
   ]
  },
  {
   "cell_type": "code",
   "execution_count": 21,
   "metadata": {},
   "outputs": [
    {
     "name": "stdout",
     "output_type": "stream",
     "text": [
      "[Document(metadata={'page': 0, 'page_label': '1', 'source': '../data/ArtigoDSA1.pdf'}, page_content='A Habilidade Mais Importante na Era da Inteligência Artificial \\n \\nA pandemia do COVID-19 acelerou o ritmo do desenvolvimento digital em todo o mundo, já que \\ntudo, desde reuniões até consultas médicas, ficou online. Isso pode soar como algo super \\npositivo.  \\nPara dezenas de milhões de trabalhadores, não. \\nEles talvez não tenham as habilidades necessárias para competir nesse novo mundo. Eles são os \\ncontadores, os digitadores, os secretários executivos, procurando trabalho em uma nova \\neconomia na qual as pessoas contratadas têm títulos como “Engenheiro de Nuv em” ou “Hacker \\nde Crescimento” em seus currículos. Sem um esforço concentrado para retreiná-los, descobriram \\nos pesquisadores da RAND Europe, eles provavelmente serão deixados para trás. \\nE não apenas eles. O custo dessa crescente lacuna de habilidades será medido em trilhões de \\ndólares e recairá mais fortemente em lugares que não possuem infraestrutura digital confiável,'), Document(metadata={'page': 0, 'page_label': '1', 'source': '../data/ArtigoDSA1.pdf'}, page_content='A Habilidade Mais Importante na Era da Inteligência Artificial \\n \\nA pandemia do COVID-19 acelerou o ritmo do desenvolvimento digital em todo o mundo, já que \\ntudo, desde reuniões até consultas médicas, ficou online. Isso pode soar como algo super \\npositivo.  \\nPara dezenas de milhões de trabalhadores, não. \\nEles talvez não tenham as habilidades necessárias para competir nesse novo mundo. Eles são os \\ncontadores, os digitadores, os secretários executivos, procurando trabalho em uma nova \\neconomia na qual as pessoas contratadas têm títulos como “Engenheiro de Nuv em” ou “Hacker \\nde Crescimento” em seus currículos. Sem um esforço concentrado para retreiná-los, descobriram \\nos pesquisadores da RAND Europe, eles provavelmente serão deixados para trás. \\nE não apenas eles. O custo dessa crescente lacuna de habilidades será medido em trilhões de \\ndólares e recairá mais fortemente em lugares que não possuem infraestrutura digital confiável,')]\n"
     ]
    }
   ],
   "source": [
    "# Perform the vector search\n",
    "relevant_points = vectordb.max_marginal_relevance_search(question, k = 2, fetch_k = 3)\n",
    "print(relevant_points)"
   ]
  },
  {
   "cell_type": "markdown",
   "metadata": {},
   "source": [
    "**max_marginal_relevance_search()**: Performs a search in the vector database based on maximal marginal relevance (MMR). This technique is used to find documents that are relevant to the given question, reducing redundancy in the answers. Instead of returning documents that are very similar to each other, it ensures diversity in the answers while maintaining relevance. Read the pdf manual in Chapter 16 for more details.\n",
    "\n",
    "Parameters:\n",
    "\n",
    "**question**: The natural text question used to calculate the semantic similarity with the documents in the vector database.\n",
    "\n",
    "**k=2**: Defines the number of final documents that will be returned as the most relevant.\n",
    "\n",
    "**fetch_k=3**: Specifies that the algorithm should initially search for the 3 most relevant documents and then apply the MMR technique to select the 2 most diverse and relevant."
   ]
  },
  {
   "cell_type": "code",
   "execution_count": 22,
   "metadata": {},
   "outputs": [
    {
     "name": "stdout",
     "output_type": "stream",
     "text": [
      "page_content='A Habilidade Mais Importante na Era da Inteligência Artificial \n",
      " \n",
      "A pandemia do COVID-19 acelerou o ritmo do desenvolvimento digital em todo o mundo, já que \n",
      "tudo, desde reuniões até consultas médicas, ficou online. Isso pode soar como algo super \n",
      "positivo.  \n",
      "Para dezenas de milhões de trabalhadores, não. \n",
      "Eles talvez não tenham as habilidades necessárias para competir nesse novo mundo. Eles são os \n",
      "contadores, os digitadores, os secretários executivos, procurando trabalho em uma nova \n",
      "economia na qual as pessoas contratadas têm títulos como “Engenheiro de Nuv em” ou “Hacker \n",
      "de Crescimento” em seus currículos. Sem um esforço concentrado para retreiná-los, descobriram \n",
      "os pesquisadores da RAND Europe, eles provavelmente serão deixados para trás. \n",
      "E não apenas eles. O custo dessa crescente lacuna de habilidades será medido em trilhões de \n",
      "dólares e recairá mais fortemente em lugares que não possuem infraestrutura digital confiável,' metadata={'page': 0, 'page_label': '1', 'source': '../data/ArtigoDSA1.pdf'}\n"
     ]
    }
   ],
   "source": [
    "print(relevant_points[0])"
   ]
  },
  {
   "cell_type": "markdown",
   "metadata": {},
   "source": [
    "## Defining LLM\n",
    "\n",
    "https://huggingface.co/Qwen/Qwen2.5-1.5B-Instruct"
   ]
  },
  {
   "cell_type": "code",
   "execution_count": 26,
   "metadata": {},
   "outputs": [],
   "source": [
    "# Set the name of the LLM as it appears in the HF\n",
    "llm_model_name = \"Qwen/Qwen2.5-1.5B-Instruct\""
   ]
  },
  {
   "cell_type": "code",
   "execution_count": 24,
   "metadata": {},
   "outputs": [
    {
     "name": "stderr",
     "output_type": "stream",
     "text": [
      "c:\\Users\\krupc\\Downloads\\Projects\\mlops\\mem-rag\\.venv\\Lib\\site-packages\\huggingface_hub\\file_download.py:140: UserWarning: `huggingface_hub` cache-system uses symlinks by default to efficiently store duplicated files but your machine does not support them in C:\\Users\\krupc\\.cache\\huggingface\\hub\\models--Qwen--Qwen2.5-1.5B-Instruct. Caching files will still work but in a degraded version that might require more space on your disk. This warning can be disabled by setting the `HF_HUB_DISABLE_SYMLINKS_WARNING` environment variable. For more details, see https://huggingface.co/docs/huggingface_hub/how-to-cache#limitations.\n",
      "To support symlinks on Windows, you either need to activate Developer Mode or to run Python as an administrator. In order to activate developer mode, see this article: https://docs.microsoft.com/en-us/windows/apps/get-started/enable-your-device-for-development\n",
      "  warnings.warn(message)\n"
     ]
    }
   ],
   "source": [
    "# Load the model\n",
    "model = AutoModelForCausalLM.from_pretrained(llm_model_name, \n",
    "                                             torch_dtype = \"auto\", \n",
    "                                             device_map = \"auto\")"
   ]
  },
  {
   "cell_type": "code",
   "execution_count": 27,
   "metadata": {},
   "outputs": [],
   "source": [
    "# Load the tokenizer from the model\n",
    "tokenizer = AutoTokenizer.from_pretrained(llm_model_name)"
   ]
  },
  {
   "cell_type": "markdown",
   "metadata": {},
   "source": [
    "---"
   ]
  },
  {
   "cell_type": "markdown",
   "metadata": {},
   "source": [
    "## Setting the Context"
   ]
  },
  {
   "cell_type": "code",
   "execution_count": 29,
   "metadata": {},
   "outputs": [],
   "source": [
    "# Defining the question\n",
    "question = \"Has the COVID-19 pandemic accelerated the pace of digital development around the world?\"\n",
    "\n",
    "# Extract the context of the question (i.e. perform vector search)\n",
    "context = vectordb.max_marginal_relevance_search(question, k = 2, fetch_k = 3)"
   ]
  },
  {
   "cell_type": "markdown",
   "metadata": {},
   "source": [
    "## Setting the Prompt"
   ]
  },
  {
   "cell_type": "code",
   "execution_count": 30,
   "metadata": {},
   "outputs": [],
   "source": [
    "# Create the prompt\n",
    "prompt = f\"\"\"\n",
    "You are an expert assistant. You use the context provided as your complementary knowledge base to answer the question.\n",
    "context = {context}\n",
    "question = {question}\n",
    "answer =\n",
    "\"\"\""
   ]
  },
  {
   "cell_type": "code",
   "execution_count": 31,
   "metadata": {},
   "outputs": [],
   "source": [
    "# Create the list of system and user messages\n",
    "messages = [\n",
    "{\"role\": \"system\", \"content\": \"You are Qwen, created by Alibaba Cloud. You are an expert assistant.\"},\n",
    "{\"role\": \"user\", \"content\": prompt}\n",
    "]"
   ]
  },
  {
   "cell_type": "markdown",
   "metadata": {},
   "source": []
  }
 ],
 "metadata": {
  "kernelspec": {
   "display_name": ".venv",
   "language": "python",
   "name": "python3"
  },
  "language_info": {
   "codemirror_mode": {
    "name": "ipython",
    "version": 3
   },
   "file_extension": ".py",
   "mimetype": "text/x-python",
   "name": "python",
   "nbconvert_exporter": "python",
   "pygments_lexer": "ipython3",
   "version": "3.12.7"
  }
 },
 "nbformat": 4,
 "nbformat_minor": 2
}
